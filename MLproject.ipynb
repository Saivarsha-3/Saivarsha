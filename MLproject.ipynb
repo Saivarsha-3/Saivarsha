{
  "nbformat": 4,
  "nbformat_minor": 0,
  "metadata": {
    "colab": {
      "name": "MLproject.ipynb",
      "provenance": [],
      "collapsed_sections": [
        "W36NsPjUfeTB",
        "t7dBTWjrfpDG",
        "9eRhhHnUgd7o",
        "OpF_ZAzDgLto",
        "S_HwmD3xcITT",
        "2YCWAzp8RfpT",
        "pBpNv_4yQd4e",
        "_Ek16Lb-YMi2",
        "yzf8UoB53I1B"
      ]
    },
    "kernelspec": {
      "name": "python3",
      "display_name": "Python 3"
    }
  },
  "cells": [
    {
      "cell_type": "markdown",
      "metadata": {
        "id": "W36NsPjUfeTB",
        "colab_type": "text"
      },
      "source": [
        "# *Problem statement*"
      ]
    },
    {
      "cell_type": "markdown",
      "metadata": {
        "id": "HzEAeGZFgPFA",
        "colab_type": "text"
      },
      "source": [
        "**PROJECT**:\n",
        "Bank is has a growing customer base. The bank wants to increase borrowers (asset customers) base to bring in more loan business and earn more through the interest on loans. So , bank wants to convert the liability based customers to personal loan customers. (while retaining them as depositors). A campaign that the bank ran last year for liability customers showed a healthy conversion rate of over 9% success. The department wants to build a model that will help them identify the potential customers who have higher probability of purchasing the loan. This will increase the success ratio while at the same time reduce the cost of the campaign.\n",
        "\n",
        "**Objective:**\n",
        "\n",
        "The classification goal is to predict the likelihood of a liability customer buying personal\n",
        "loans.\n",
        "\n",
        "**On** **the** **dataset**\n",
        "\n",
        "The file given below contains data on 5000 customers. The data include customer demographic information (age, income, etc.), the customer's relationship with the bank (mortgage, securities account, etc.), and the customer response to the last personal loan campaign (Personal Loan). Among these 5000 customers, only 480 (= 9.6%) accepted the personal loan that was offered to them in the earlier campaign\n",
        "**Attribute** **Information:**\n",
        "\n",
        "● ID: Customer ID\n",
        "\n",
        "● Age: Customer's age in completed years\n",
        "\n",
        "● Experience: #years of professional experience\n",
        "\n",
        "● Income: Annual income of the customer ($000)\n",
        "\n",
        "● ZIP Code: Home Address ZIP code.\n",
        "\n",
        "● Family: Family size of the customer\n",
        "\n",
        "● CCAvg: Avg. spending on credit cards per month ($000)\n",
        "\n",
        "● Education: Education Level. 1: Undergrad; 2: Graduate; 3:\n",
        "Advanced/Professional\n",
        "\n",
        "● Mortgage: Value of house mortgage if any. ($000)\n",
        "\n",
        "● Personal Loan: Did this customer accept the personal loan offered in the last\n",
        "campaign?\n",
        "\n",
        "● Securities Account: Does the customer have a securities account with the bank?\n",
        "\n",
        "● CD Account: Does the customer have a certificate of deposit (CD) account with\n",
        "the bank?\n",
        "\n",
        "● Online: Does the customer use internet banking facilities?\n",
        "\n",
        "● Credit card: Does the customer use a credit card issued by the bank?\n"
      ]
    },
    {
      "cell_type": "markdown",
      "metadata": {
        "id": "t7dBTWjrfpDG",
        "colab_type": "text"
      },
      "source": [
        "# *1.Importing the required libraries and dataset*"
      ]
    },
    {
      "cell_type": "code",
      "metadata": {
        "id": "XZJYLhDmoip-",
        "colab_type": "code",
        "colab": {
          "base_uri": "https://localhost:8080/",
          "height": 72
        },
        "outputId": "e6831488-33ea-4346-9832-1c2477e1bef2"
      },
      "source": [
        "import pandas as pd\n",
        "import numpy as np\n",
        "import seaborn as sns\n",
        "import matplotlib.pyplot as plt\n",
        "%matplotlib inline\n",
        "sns.set(style=\"ticks\")\n",
        "\n",
        "from scipy.stats import zscore\n",
        "from sklearn import tree\n",
        "from sklearn.tree import DecisionTreeClassifier\n",
        "from sklearn.ensemble import BaggingClassifier\n",
        "from sklearn.feature_extraction.text import CountVectorizer\n",
        "from sklearn.naive_bayes import GaussianNB\n",
        "from sklearn.ensemble import RandomForestClassifier\n",
        "from sklearn.ensemble import BaggingClassifier, RandomForestClassifier\n",
        "from sklearn.neighbors import KNeighborsClassifier\n",
        "from sklearn import model_selection\n",
        "\n"
      ],
      "execution_count": 2,
      "outputs": [
        {
          "output_type": "stream",
          "text": [
            "/usr/local/lib/python3.6/dist-packages/statsmodels/tools/_testing.py:19: FutureWarning: pandas.util.testing is deprecated. Use the functions in the public API at pandas.testing instead.\n",
            "  import pandas.util.testing as tm\n"
          ],
          "name": "stderr"
        }
      ]
    },
    {
      "cell_type": "code",
      "metadata": {
        "id": "1cjhYiwbV28z",
        "colab_type": "code",
        "colab": {
          "base_uri": "https://localhost:8080/",
          "height": 393
        },
        "outputId": "f5c5bc44-7758-446c-9734-f76ca70126fb"
      },
      "source": [
        "data = pd.read_excel('bankloan.xlsx')\n",
        "data.head(10)\n",
        "              "
      ],
      "execution_count": 3,
      "outputs": [
        {
          "output_type": "execute_result",
          "data": {
            "text/html": [
              "<div>\n",
              "<style scoped>\n",
              "    .dataframe tbody tr th:only-of-type {\n",
              "        vertical-align: middle;\n",
              "    }\n",
              "\n",
              "    .dataframe tbody tr th {\n",
              "        vertical-align: top;\n",
              "    }\n",
              "\n",
              "    .dataframe thead th {\n",
              "        text-align: right;\n",
              "    }\n",
              "</style>\n",
              "<table border=\"1\" class=\"dataframe\">\n",
              "  <thead>\n",
              "    <tr style=\"text-align: right;\">\n",
              "      <th></th>\n",
              "      <th>ID</th>\n",
              "      <th>Age</th>\n",
              "      <th>Experience</th>\n",
              "      <th>Income</th>\n",
              "      <th>ZIP Code</th>\n",
              "      <th>Family</th>\n",
              "      <th>CCAvg</th>\n",
              "      <th>Education</th>\n",
              "      <th>Mortgage</th>\n",
              "      <th>PersonalLoan</th>\n",
              "      <th>Securities Account</th>\n",
              "      <th>CD Account</th>\n",
              "      <th>Online</th>\n",
              "      <th>CreditCard</th>\n",
              "    </tr>\n",
              "  </thead>\n",
              "  <tbody>\n",
              "    <tr>\n",
              "      <th>0</th>\n",
              "      <td>1</td>\n",
              "      <td>25</td>\n",
              "      <td>1</td>\n",
              "      <td>49</td>\n",
              "      <td>91107</td>\n",
              "      <td>4</td>\n",
              "      <td>1.6</td>\n",
              "      <td>1</td>\n",
              "      <td>0</td>\n",
              "      <td>0</td>\n",
              "      <td>1</td>\n",
              "      <td>0</td>\n",
              "      <td>0</td>\n",
              "      <td>0</td>\n",
              "    </tr>\n",
              "    <tr>\n",
              "      <th>1</th>\n",
              "      <td>2</td>\n",
              "      <td>45</td>\n",
              "      <td>19</td>\n",
              "      <td>34</td>\n",
              "      <td>90089</td>\n",
              "      <td>3</td>\n",
              "      <td>1.5</td>\n",
              "      <td>1</td>\n",
              "      <td>0</td>\n",
              "      <td>0</td>\n",
              "      <td>1</td>\n",
              "      <td>0</td>\n",
              "      <td>0</td>\n",
              "      <td>0</td>\n",
              "    </tr>\n",
              "    <tr>\n",
              "      <th>2</th>\n",
              "      <td>3</td>\n",
              "      <td>39</td>\n",
              "      <td>15</td>\n",
              "      <td>11</td>\n",
              "      <td>94720</td>\n",
              "      <td>1</td>\n",
              "      <td>1.0</td>\n",
              "      <td>1</td>\n",
              "      <td>0</td>\n",
              "      <td>0</td>\n",
              "      <td>0</td>\n",
              "      <td>0</td>\n",
              "      <td>0</td>\n",
              "      <td>0</td>\n",
              "    </tr>\n",
              "    <tr>\n",
              "      <th>3</th>\n",
              "      <td>4</td>\n",
              "      <td>35</td>\n",
              "      <td>9</td>\n",
              "      <td>100</td>\n",
              "      <td>94112</td>\n",
              "      <td>1</td>\n",
              "      <td>2.7</td>\n",
              "      <td>2</td>\n",
              "      <td>0</td>\n",
              "      <td>0</td>\n",
              "      <td>0</td>\n",
              "      <td>0</td>\n",
              "      <td>0</td>\n",
              "      <td>0</td>\n",
              "    </tr>\n",
              "    <tr>\n",
              "      <th>4</th>\n",
              "      <td>5</td>\n",
              "      <td>35</td>\n",
              "      <td>8</td>\n",
              "      <td>45</td>\n",
              "      <td>91330</td>\n",
              "      <td>4</td>\n",
              "      <td>1.0</td>\n",
              "      <td>2</td>\n",
              "      <td>0</td>\n",
              "      <td>0</td>\n",
              "      <td>0</td>\n",
              "      <td>0</td>\n",
              "      <td>0</td>\n",
              "      <td>1</td>\n",
              "    </tr>\n",
              "    <tr>\n",
              "      <th>5</th>\n",
              "      <td>6</td>\n",
              "      <td>37</td>\n",
              "      <td>13</td>\n",
              "      <td>29</td>\n",
              "      <td>92121</td>\n",
              "      <td>4</td>\n",
              "      <td>0.4</td>\n",
              "      <td>2</td>\n",
              "      <td>155</td>\n",
              "      <td>0</td>\n",
              "      <td>0</td>\n",
              "      <td>0</td>\n",
              "      <td>1</td>\n",
              "      <td>0</td>\n",
              "    </tr>\n",
              "    <tr>\n",
              "      <th>6</th>\n",
              "      <td>7</td>\n",
              "      <td>53</td>\n",
              "      <td>27</td>\n",
              "      <td>72</td>\n",
              "      <td>91711</td>\n",
              "      <td>2</td>\n",
              "      <td>1.5</td>\n",
              "      <td>2</td>\n",
              "      <td>0</td>\n",
              "      <td>0</td>\n",
              "      <td>0</td>\n",
              "      <td>0</td>\n",
              "      <td>1</td>\n",
              "      <td>0</td>\n",
              "    </tr>\n",
              "    <tr>\n",
              "      <th>7</th>\n",
              "      <td>8</td>\n",
              "      <td>50</td>\n",
              "      <td>24</td>\n",
              "      <td>22</td>\n",
              "      <td>93943</td>\n",
              "      <td>1</td>\n",
              "      <td>0.3</td>\n",
              "      <td>3</td>\n",
              "      <td>0</td>\n",
              "      <td>0</td>\n",
              "      <td>0</td>\n",
              "      <td>0</td>\n",
              "      <td>0</td>\n",
              "      <td>1</td>\n",
              "    </tr>\n",
              "    <tr>\n",
              "      <th>8</th>\n",
              "      <td>9</td>\n",
              "      <td>35</td>\n",
              "      <td>10</td>\n",
              "      <td>81</td>\n",
              "      <td>90089</td>\n",
              "      <td>3</td>\n",
              "      <td>0.6</td>\n",
              "      <td>2</td>\n",
              "      <td>104</td>\n",
              "      <td>0</td>\n",
              "      <td>0</td>\n",
              "      <td>0</td>\n",
              "      <td>1</td>\n",
              "      <td>0</td>\n",
              "    </tr>\n",
              "    <tr>\n",
              "      <th>9</th>\n",
              "      <td>10</td>\n",
              "      <td>34</td>\n",
              "      <td>9</td>\n",
              "      <td>180</td>\n",
              "      <td>93023</td>\n",
              "      <td>1</td>\n",
              "      <td>8.9</td>\n",
              "      <td>3</td>\n",
              "      <td>0</td>\n",
              "      <td>1</td>\n",
              "      <td>0</td>\n",
              "      <td>0</td>\n",
              "      <td>0</td>\n",
              "      <td>0</td>\n",
              "    </tr>\n",
              "  </tbody>\n",
              "</table>\n",
              "</div>"
            ],
            "text/plain": [
              "   ID  Age  Experience  ...  CD Account  Online  CreditCard\n",
              "0   1   25           1  ...           0       0           0\n",
              "1   2   45          19  ...           0       0           0\n",
              "2   3   39          15  ...           0       0           0\n",
              "3   4   35           9  ...           0       0           0\n",
              "4   5   35           8  ...           0       0           1\n",
              "5   6   37          13  ...           0       1           0\n",
              "6   7   53          27  ...           0       1           0\n",
              "7   8   50          24  ...           0       0           1\n",
              "8   9   35          10  ...           0       1           0\n",
              "9  10   34           9  ...           0       0           0\n",
              "\n",
              "[10 rows x 14 columns]"
            ]
          },
          "metadata": {
            "tags": []
          },
          "execution_count": 3
        }
      ]
    },
    {
      "cell_type": "code",
      "metadata": {
        "id": "oxSYVb4XbHIm",
        "colab_type": "code",
        "colab": {}
      },
      "source": [
        "data.columns"
      ],
      "execution_count": null,
      "outputs": []
    },
    {
      "cell_type": "markdown",
      "metadata": {
        "id": "jT3yq_GBctEW",
        "colab_type": "text"
      },
      "source": [
        "Information on the features or attributes\n",
        "The attributes can be divided accordingly :\n",
        "\n",
        "The variable ID does not add any interesting information. There is no association between a person's customer ID and loan, also it does not provide any general conclusion for future potential loan customers. We can neglect this information for our model prediction.\n",
        "The binary category have five variables as below:\n",
        "\n",
        "**Personal** **Loan** - Did this customer accept the personal loan offered in the last campaign? ***This is our target variable***\n",
        "Securities Account - Does the customer have a securities account with the bank?\n",
        "\n",
        "**CD Account** - Does the customer have a certificate of deposit (CD) account with the bank?\n",
        "Online - Does the customer use internet banking facilities?\n",
        "\n",
        "\n",
        "**Credit Card** - Does the customer use a credit card issued by UniversalBank?\n",
        "Interval variables are as below:\n",
        "\n",
        "Age - Age of the customer\n",
        "Experience - Years of experience\n",
        "Income - Annual income in dollars\n",
        "CCAvg - Average credit card spending\n",
        "Mortage - Value of House Mortgage\n",
        "Ordinal Categorical Variables are:\n",
        "\n",
        "Family - Family size of the customer\n",
        "Education - education level of the customer\n",
        "The nominal variable is :\n",
        "ID,\n",
        "Zip Code"
      ]
    },
    {
      "cell_type": "code",
      "metadata": {
        "id": "J5_XJVm7bTDN",
        "colab_type": "code",
        "colab": {}
      },
      "source": [
        "# gives the no.of rows and columns\n",
        "data.shape"
      ],
      "execution_count": null,
      "outputs": []
    },
    {
      "cell_type": "code",
      "metadata": {
        "id": "YrPviloFbaRY",
        "colab_type": "code",
        "colab": {}
      },
      "source": [
        "data.info()"
      ],
      "execution_count": null,
      "outputs": []
    },
    {
      "cell_type": "code",
      "metadata": {
        "id": "fGwRybdKbmPF",
        "colab_type": "code",
        "colab": {}
      },
      "source": [
        "# for displaying the summary stats which include count,mean,std,min,etc.\n",
        "data.describe()"
      ],
      "execution_count": null,
      "outputs": []
    },
    {
      "cell_type": "code",
      "metadata": {
        "id": "NUuXBuyfa212",
        "colab_type": "code",
        "colab": {}
      },
      "source": [
        "data.tail(5)"
      ],
      "execution_count": null,
      "outputs": []
    },
    {
      "cell_type": "code",
      "metadata": {
        "id": "BMfBYpu4f9sH",
        "colab_type": "code",
        "colab": {}
      },
      "source": [
        "# to get the no.of null values in each column.\n",
        "data.isnull().sum()"
      ],
      "execution_count": null,
      "outputs": []
    },
    {
      "cell_type": "markdown",
      "metadata": {
        "id": "9eRhhHnUgd7o",
        "colab_type": "text"
      },
      "source": [
        "# *2.Dropping Irrevalent columns*"
      ]
    },
    {
      "cell_type": "code",
      "metadata": {
        "id": "lG-y2r8pf8kj",
        "colab_type": "code",
        "colab": {
          "base_uri": "https://localhost:8080/",
          "height": 35
        },
        "outputId": "959459ad-c37f-4cdf-e1f1-14893afd7319"
      },
      "source": [
        "experience = data['Experience']\n",
        "age = data['Age']\n",
        "correlation = experience.corr(age)\n",
        "correlation"
      ],
      "execution_count": 4,
      "outputs": [
        {
          "output_type": "execute_result",
          "data": {
            "text/plain": [
              "0.9942148569683321"
            ]
          },
          "metadata": {
            "tags": []
          },
          "execution_count": 4
        }
      ]
    },
    {
      "cell_type": "markdown",
      "metadata": {
        "id": "pQ0rEvjdgfsz",
        "colab_type": "text"
      },
      "source": [
        "We can see that age and experience are highly correlated.During analysis it's better to use any one of the highly correlated variables.So,it's better to drop experience\n",
        "And it's also better to drop ID also ,because it seems to have the faulty data and so it's not useful for the analysis."
      ]
    },
    {
      "cell_type": "code",
      "metadata": {
        "id": "qLVaKTrhf2if",
        "colab_type": "code",
        "colab": {
          "base_uri": "https://localhost:8080/",
          "height": 453
        },
        "outputId": "2c830006-f3e0-41cc-c6bc-1252fab780db"
      },
      "source": [
        "data.drop(['ID','Experience'],axis=1)"
      ],
      "execution_count": 5,
      "outputs": [
        {
          "output_type": "execute_result",
          "data": {
            "text/html": [
              "<div>\n",
              "<style scoped>\n",
              "    .dataframe tbody tr th:only-of-type {\n",
              "        vertical-align: middle;\n",
              "    }\n",
              "\n",
              "    .dataframe tbody tr th {\n",
              "        vertical-align: top;\n",
              "    }\n",
              "\n",
              "    .dataframe thead th {\n",
              "        text-align: right;\n",
              "    }\n",
              "</style>\n",
              "<table border=\"1\" class=\"dataframe\">\n",
              "  <thead>\n",
              "    <tr style=\"text-align: right;\">\n",
              "      <th></th>\n",
              "      <th>Age</th>\n",
              "      <th>Income</th>\n",
              "      <th>ZIP Code</th>\n",
              "      <th>Family</th>\n",
              "      <th>CCAvg</th>\n",
              "      <th>Education</th>\n",
              "      <th>Mortgage</th>\n",
              "      <th>PersonalLoan</th>\n",
              "      <th>Securities Account</th>\n",
              "      <th>CD Account</th>\n",
              "      <th>Online</th>\n",
              "      <th>CreditCard</th>\n",
              "    </tr>\n",
              "  </thead>\n",
              "  <tbody>\n",
              "    <tr>\n",
              "      <th>0</th>\n",
              "      <td>25</td>\n",
              "      <td>49</td>\n",
              "      <td>91107</td>\n",
              "      <td>4</td>\n",
              "      <td>1.6</td>\n",
              "      <td>1</td>\n",
              "      <td>0</td>\n",
              "      <td>0</td>\n",
              "      <td>1</td>\n",
              "      <td>0</td>\n",
              "      <td>0</td>\n",
              "      <td>0</td>\n",
              "    </tr>\n",
              "    <tr>\n",
              "      <th>1</th>\n",
              "      <td>45</td>\n",
              "      <td>34</td>\n",
              "      <td>90089</td>\n",
              "      <td>3</td>\n",
              "      <td>1.5</td>\n",
              "      <td>1</td>\n",
              "      <td>0</td>\n",
              "      <td>0</td>\n",
              "      <td>1</td>\n",
              "      <td>0</td>\n",
              "      <td>0</td>\n",
              "      <td>0</td>\n",
              "    </tr>\n",
              "    <tr>\n",
              "      <th>2</th>\n",
              "      <td>39</td>\n",
              "      <td>11</td>\n",
              "      <td>94720</td>\n",
              "      <td>1</td>\n",
              "      <td>1.0</td>\n",
              "      <td>1</td>\n",
              "      <td>0</td>\n",
              "      <td>0</td>\n",
              "      <td>0</td>\n",
              "      <td>0</td>\n",
              "      <td>0</td>\n",
              "      <td>0</td>\n",
              "    </tr>\n",
              "    <tr>\n",
              "      <th>3</th>\n",
              "      <td>35</td>\n",
              "      <td>100</td>\n",
              "      <td>94112</td>\n",
              "      <td>1</td>\n",
              "      <td>2.7</td>\n",
              "      <td>2</td>\n",
              "      <td>0</td>\n",
              "      <td>0</td>\n",
              "      <td>0</td>\n",
              "      <td>0</td>\n",
              "      <td>0</td>\n",
              "      <td>0</td>\n",
              "    </tr>\n",
              "    <tr>\n",
              "      <th>4</th>\n",
              "      <td>35</td>\n",
              "      <td>45</td>\n",
              "      <td>91330</td>\n",
              "      <td>4</td>\n",
              "      <td>1.0</td>\n",
              "      <td>2</td>\n",
              "      <td>0</td>\n",
              "      <td>0</td>\n",
              "      <td>0</td>\n",
              "      <td>0</td>\n",
              "      <td>0</td>\n",
              "      <td>1</td>\n",
              "    </tr>\n",
              "    <tr>\n",
              "      <th>...</th>\n",
              "      <td>...</td>\n",
              "      <td>...</td>\n",
              "      <td>...</td>\n",
              "      <td>...</td>\n",
              "      <td>...</td>\n",
              "      <td>...</td>\n",
              "      <td>...</td>\n",
              "      <td>...</td>\n",
              "      <td>...</td>\n",
              "      <td>...</td>\n",
              "      <td>...</td>\n",
              "      <td>...</td>\n",
              "    </tr>\n",
              "    <tr>\n",
              "      <th>4995</th>\n",
              "      <td>29</td>\n",
              "      <td>40</td>\n",
              "      <td>92697</td>\n",
              "      <td>1</td>\n",
              "      <td>1.9</td>\n",
              "      <td>3</td>\n",
              "      <td>0</td>\n",
              "      <td>0</td>\n",
              "      <td>0</td>\n",
              "      <td>0</td>\n",
              "      <td>1</td>\n",
              "      <td>0</td>\n",
              "    </tr>\n",
              "    <tr>\n",
              "      <th>4996</th>\n",
              "      <td>30</td>\n",
              "      <td>15</td>\n",
              "      <td>92037</td>\n",
              "      <td>4</td>\n",
              "      <td>0.4</td>\n",
              "      <td>1</td>\n",
              "      <td>85</td>\n",
              "      <td>0</td>\n",
              "      <td>0</td>\n",
              "      <td>0</td>\n",
              "      <td>1</td>\n",
              "      <td>0</td>\n",
              "    </tr>\n",
              "    <tr>\n",
              "      <th>4997</th>\n",
              "      <td>63</td>\n",
              "      <td>24</td>\n",
              "      <td>93023</td>\n",
              "      <td>2</td>\n",
              "      <td>0.3</td>\n",
              "      <td>3</td>\n",
              "      <td>0</td>\n",
              "      <td>0</td>\n",
              "      <td>0</td>\n",
              "      <td>0</td>\n",
              "      <td>0</td>\n",
              "      <td>0</td>\n",
              "    </tr>\n",
              "    <tr>\n",
              "      <th>4998</th>\n",
              "      <td>65</td>\n",
              "      <td>49</td>\n",
              "      <td>90034</td>\n",
              "      <td>3</td>\n",
              "      <td>0.5</td>\n",
              "      <td>2</td>\n",
              "      <td>0</td>\n",
              "      <td>0</td>\n",
              "      <td>0</td>\n",
              "      <td>0</td>\n",
              "      <td>1</td>\n",
              "      <td>0</td>\n",
              "    </tr>\n",
              "    <tr>\n",
              "      <th>4999</th>\n",
              "      <td>28</td>\n",
              "      <td>83</td>\n",
              "      <td>92612</td>\n",
              "      <td>3</td>\n",
              "      <td>0.8</td>\n",
              "      <td>1</td>\n",
              "      <td>0</td>\n",
              "      <td>0</td>\n",
              "      <td>0</td>\n",
              "      <td>0</td>\n",
              "      <td>1</td>\n",
              "      <td>1</td>\n",
              "    </tr>\n",
              "  </tbody>\n",
              "</table>\n",
              "<p>5000 rows × 12 columns</p>\n",
              "</div>"
            ],
            "text/plain": [
              "      Age  Income  ZIP Code  ...  CD Account  Online  CreditCard\n",
              "0      25      49     91107  ...           0       0           0\n",
              "1      45      34     90089  ...           0       0           0\n",
              "2      39      11     94720  ...           0       0           0\n",
              "3      35     100     94112  ...           0       0           0\n",
              "4      35      45     91330  ...           0       0           1\n",
              "...   ...     ...       ...  ...         ...     ...         ...\n",
              "4995   29      40     92697  ...           0       1           0\n",
              "4996   30      15     92037  ...           0       1           0\n",
              "4997   63      24     93023  ...           0       0           0\n",
              "4998   65      49     90034  ...           0       1           0\n",
              "4999   28      83     92612  ...           0       1           1\n",
              "\n",
              "[5000 rows x 12 columns]"
            ]
          },
          "metadata": {
            "tags": []
          },
          "execution_count": 5
        }
      ]
    },
    {
      "cell_type": "markdown",
      "metadata": {
        "id": "OpF_ZAzDgLto",
        "colab_type": "text"
      },
      "source": [
        "# *3.EDA*"
      ]
    },
    {
      "cell_type": "code",
      "metadata": {
        "id": "uJgAztreh7dB",
        "colab_type": "code",
        "colab": {
          "base_uri": "https://localhost:8080/",
          "height": 277
        },
        "outputId": "504fd357-20e9-42a5-9601-47e0def50c43"
      },
      "source": [
        "data.nunique()"
      ],
      "execution_count": 7,
      "outputs": [
        {
          "output_type": "execute_result",
          "data": {
            "text/plain": [
              "ID                    5000\n",
              "Age                     45\n",
              "Experience              47\n",
              "Income                 162\n",
              "ZIP Code               467\n",
              "Family                   4\n",
              "CCAvg                  108\n",
              "Education                3\n",
              "Mortgage               347\n",
              "PersonalLoan             2\n",
              "Securities Account       2\n",
              "CD Account               2\n",
              "Online                   2\n",
              "CreditCard               2\n",
              "dtype: int64"
            ]
          },
          "metadata": {
            "tags": []
          },
          "execution_count": 7
        }
      ]
    },
    {
      "cell_type": "markdown",
      "metadata": {
        "id": "sNjtXi72gFy3",
        "colab_type": "text"
      },
      "source": [
        "Zip code has more unique values i.e 467 distinct values.It's a nominal variable which has too many levels.So,it's better to drop Zipcode."
      ]
    },
    {
      "cell_type": "code",
      "metadata": {
        "id": "57OdvZOhfnWl",
        "colab_type": "code",
        "colab": {
          "base_uri": "https://localhost:8080/",
          "height": 35
        },
        "outputId": "5e9e7ace-9eb6-4c6f-f2d0-1676c196a1ed"
      },
      "source": [
        "data[data['CCAvg']==0]['CCAvg'].count()"
      ],
      "execution_count": 8,
      "outputs": [
        {
          "output_type": "execute_result",
          "data": {
            "text/plain": [
              "106"
            ]
          },
          "metadata": {
            "tags": []
          },
          "execution_count": 8
        }
      ]
    },
    {
      "cell_type": "code",
      "metadata": {
        "id": "_moFfG7OgAcM",
        "colab_type": "code",
        "colab": {
          "base_uri": "https://localhost:8080/",
          "height": 35
        },
        "outputId": "c7621c48-77c3-4a00-ab55-98a86636a816"
      },
      "source": [
        "data[data['Mortgage']==0]['Mortgage'].count()"
      ],
      "execution_count": 9,
      "outputs": [
        {
          "output_type": "execute_result",
          "data": {
            "text/plain": [
              "3462"
            ]
          },
          "metadata": {
            "tags": []
          },
          "execution_count": 9
        }
      ]
    },
    {
      "cell_type": "markdown",
      "metadata": {
        "id": "S_HwmD3xcITT",
        "colab_type": "text"
      },
      "source": [
        "# *3.1 Value counts of all categorical columns*"
      ]
    },
    {
      "cell_type": "code",
      "metadata": {
        "id": "8CnnznTGbO3v",
        "colab_type": "code",
        "colab": {}
      },
      "source": [
        "data.Education.value_counts()"
      ],
      "execution_count": null,
      "outputs": []
    },
    {
      "cell_type": "code",
      "metadata": {
        "id": "-sZMWRPjchKe",
        "colab_type": "code",
        "colab": {}
      },
      "source": [
        "data.Family.value_counts()"
      ],
      "execution_count": null,
      "outputs": []
    },
    {
      "cell_type": "code",
      "metadata": {
        "id": "hVeFbn99cV4J",
        "colab_type": "code",
        "colab": {}
      },
      "source": [
        "data['Securities Account'].value_counts()"
      ],
      "execution_count": null,
      "outputs": []
    },
    {
      "cell_type": "code",
      "metadata": {
        "id": "-DB5nnRCcyuj",
        "colab_type": "code",
        "colab": {}
      },
      "source": [
        "data['CD Account'].value_counts()"
      ],
      "execution_count": null,
      "outputs": []
    },
    {
      "cell_type": "code",
      "metadata": {
        "id": "moHfOLYtc6M6",
        "colab_type": "code",
        "colab": {}
      },
      "source": [
        "data.Online.value_counts()"
      ],
      "execution_count": null,
      "outputs": []
    },
    {
      "cell_type": "code",
      "metadata": {
        "id": "KLj7ACF5dVkx",
        "colab_type": "code",
        "colab": {}
      },
      "source": [
        "data['CreditCard'].value_counts()"
      ],
      "execution_count": null,
      "outputs": []
    },
    {
      "cell_type": "markdown",
      "metadata": {
        "id": "2YCWAzp8RfpT",
        "colab_type": "text"
      },
      "source": [
        "# *3.2 Univariate analysis*"
      ]
    },
    {
      "cell_type": "markdown",
      "metadata": {
        "id": "EZA1mceIXyd3",
        "colab_type": "text"
      },
      "source": [
        "Univariate analysis is perhaps the simplest form of statistical analysis. Like other forms of statistics, it can be inferential or descriptive. The key fact is that only one variable is involved."
      ]
    },
    {
      "cell_type": "code",
      "metadata": {
        "id": "B3VxNEeuRyhu",
        "colab_type": "code",
        "colab": {}
      },
      "source": [
        "##distplot is the best one for univariate analysis.\n",
        "## Here,we plotted the graph for the age and we can observe it's normally distributed.\n",
        "sns.distplot(data.Age);"
      ],
      "execution_count": null,
      "outputs": []
    },
    {
      "cell_type": "code",
      "metadata": {
        "id": "Ii6WJCTfTe_O",
        "colab_type": "code",
        "colab": {}
      },
      "source": [
        "## the following is the graph for the credit card average.\n",
        "## it's right skewed distribution.\n",
        "sns.distplot(data.CCAvg);"
      ],
      "execution_count": null,
      "outputs": []
    },
    {
      "cell_type": "code",
      "metadata": {
        "id": "B8_MOs-rTYb6",
        "colab_type": "code",
        "colab": {}
      },
      "source": [
        "sns.countplot(data.Family);"
      ],
      "execution_count": null,
      "outputs": []
    },
    {
      "cell_type": "code",
      "metadata": {
        "id": "X_OtIrYpTgNp",
        "colab_type": "code",
        "colab": {}
      },
      "source": [
        "sns.countplot(data.Education);"
      ],
      "execution_count": null,
      "outputs": []
    },
    {
      "cell_type": "code",
      "metadata": {
        "id": "5TqfaakIo1sp",
        "colab_type": "code",
        "colab": {}
      },
      "source": [
        "plt.hist(data['Mortgage'])"
      ],
      "execution_count": null,
      "outputs": []
    },
    {
      "cell_type": "markdown",
      "metadata": {
        "id": "1m-826ZVpdhw",
        "colab_type": "text"
      },
      "source": [
        "we can observe that most of the mortgage values are zeroes."
      ]
    },
    {
      "cell_type": "markdown",
      "metadata": {
        "id": "pBpNv_4yQd4e",
        "colab_type": "text"
      },
      "source": [
        "# *3.3 Bivariate analysis*"
      ]
    },
    {
      "cell_type": "markdown",
      "metadata": {
        "id": "BnLsKwJXW-Ce",
        "colab_type": "text"
      },
      "source": [
        "Bivariate analysis is one of the simplest forms of quantitative (statistical) analysis. It involves the analysis of two variables of the given data, for the purpose of determining the empirical relationship between them."
      ]
    },
    {
      "cell_type": "code",
      "metadata": {
        "id": "6fPNAcqLWHLd",
        "colab_type": "code",
        "colab": {}
      },
      "source": [
        "sns.pairplot(data.iloc[:,1:])"
      ],
      "execution_count": null,
      "outputs": []
    },
    {
      "cell_type": "markdown",
      "metadata": {
        "id": "PS2o4lcUcV_R",
        "colab_type": "text"
      },
      "source": [
        "**Age** feature is normally distributed with majority of customers falling between 30 years and 60 years of age. We can confirm this by looking at the describe statement above, which shows mean is almost equal to median\n",
        "**Experience** is normally distributed with more customer having experience starting from 8 years. Here the mean is equal to median. There are negative values in the Experience. This could be a data input error as in general it is not possible to measure negative years of experience. We can delete these values, because we have 3 or 4 records from the sample.\n",
        "**Income** is positively skewed. Majority of the customers have income between 45K and 55K. We can confirm this by saying the mean is greater than the median\n",
        "**CCAvg** is also a positively skewed variable and average spending is between 0K to 10K and majority spends less than 2.5K\n",
        "**Mortgage** 70% of the individuals have a mortgage of less than 40K. However the max value is 635K\n",
        "The variables family and education are ordinal variables. The distribution of families is evenly distributes"
      ]
    },
    {
      "cell_type": "code",
      "metadata": {
        "id": "DlgUY-dHiEKD",
        "colab_type": "code",
        "colab": {}
      },
      "source": [
        "sns.boxplot(x='Education',y='Income',hue='PersonalLoan',data=data)"
      ],
      "execution_count": null,
      "outputs": []
    },
    {
      "cell_type": "markdown",
      "metadata": {
        "id": "07AkRexylwhp",
        "colab_type": "text"
      },
      "source": [
        "**Observation:**\n",
        "It seems the customers whose education level 1 is having more income.However customers who\n",
        "has taken the personal loan have the same income levels."
      ]
    },
    {
      "cell_type": "code",
      "metadata": {
        "id": "sUo2aXzfkAE7",
        "colab_type": "code",
        "colab": {}
      },
      "source": [
        "sns.boxplot(x='Education',y='Mortgage',hue='PersonalLoan',data=data,color='green')"
      ],
      "execution_count": null,
      "outputs": []
    },
    {
      "cell_type": "markdown",
      "metadata": {
        "id": "JP36-pEYlGco",
        "colab_type": "text"
      },
      "source": [
        "**Inference:**\n",
        "From the above chart it seems that customer who do not have personal loan and customer who have personal loan have high mortgage\n"
      ]
    },
    {
      "cell_type": "code",
      "metadata": {
        "id": "GaGZTcJGlEsL",
        "colab_type": "code",
        "colab": {}
      },
      "source": [
        "sns.countplot(x='Securities Account',data=data,hue='PersonalLoan')"
      ],
      "execution_count": null,
      "outputs": []
    },
    {
      "cell_type": "markdown",
      "metadata": {
        "id": "jmavpofImxdc",
        "colab_type": "text"
      },
      "source": [
        "**Observation:**\n",
        "Majority of customers who doesn't have loan have securities account."
      ]
    },
    {
      "cell_type": "code",
      "metadata": {
        "id": "mfd9se_5nBKo",
        "colab_type": "code",
        "colab": {}
      },
      "source": [
        "sns.countplot(x='Family',data=data,hue='PersonalLoan',palette='Set2')"
      ],
      "execution_count": null,
      "outputs": []
    },
    {
      "cell_type": "markdown",
      "metadata": {
        "id": "ia6qbDx6nwNS",
        "colab_type": "text"
      },
      "source": [
        "**Observation:**\n",
        "Family size doesn't have any impact on the personal loan.But it seems that families with size greater than 3 are more likely to take loan.When considering future compaign this might be goog association."
      ]
    },
    {
      "cell_type": "code",
      "metadata": {
        "id": "y2mSbo3BoT5c",
        "colab_type": "code",
        "colab": {}
      },
      "source": [
        "sns.countplot(x='CD Account',data=data,hue='PersonalLoan',palette='Set1')"
      ],
      "execution_count": null,
      "outputs": []
    },
    {
      "cell_type": "markdown",
      "metadata": {
        "id": "s7-M4Lyhqrey",
        "colab_type": "text"
      },
      "source": [
        "**Observation:**\n",
        "Customers who does not have CD account,does not have loan as well.This seems to be majority.But almost all costomers who has CD account has loan as well."
      ]
    },
    {
      "cell_type": "code",
      "metadata": {
        "id": "oQnbrYIFs4FB",
        "colab_type": "code",
        "colab": {}
      },
      "source": [
        "sns.distplot( data[data.PersonalLoan == 0]['CCAvg'], color = 'r')\n",
        "sns.distplot( data[data.PersonalLoan == 1]['CCAvg'], color = 'g')"
      ],
      "execution_count": null,
      "outputs": []
    },
    {
      "cell_type": "code",
      "metadata": {
        "id": "QuLCAwBivNMg",
        "colab_type": "code",
        "colab": {
          "base_uri": "https://localhost:8080/",
          "height": 35
        },
        "outputId": "b3e1ef19-1879-45fc-bd52-1d70ce0e9ae7"
      },
      "source": [
        "#credit card spending of loan customers\n",
        "data[data.PersonalLoan == 1]['CCAvg'].median()*1000"
      ],
      "execution_count": 69,
      "outputs": [
        {
          "output_type": "execute_result",
          "data": {
            "text/plain": [
              "3800.0"
            ]
          },
          "metadata": {
            "tags": []
          },
          "execution_count": 69
        }
      ]
    },
    {
      "cell_type": "code",
      "metadata": {
        "id": "0GRih4K7wAw5",
        "colab_type": "code",
        "colab": {
          "base_uri": "https://localhost:8080/",
          "height": 35
        },
        "outputId": "4f97ca4d-265c-4a4c-88ef-3d677b64126c"
      },
      "source": [
        "#credit card spending of non-loan customers\n",
        "data[data.PersonalLoan == 0]['CCAvg'].median()*1000"
      ],
      "execution_count": 68,
      "outputs": [
        {
          "output_type": "execute_result",
          "data": {
            "text/plain": [
              "1400.0"
            ]
          },
          "metadata": {
            "tags": []
          },
          "execution_count": 68
        }
      ]
    },
    {
      "cell_type": "markdown",
      "metadata": {
        "id": "Zn8UHYmGwfX6",
        "colab_type": "text"
      },
      "source": [
        "**Observation:**\n",
        "This graph shows that who have personal loan have a higher credit card average.Average credit card spending with a median of 3800 dollar indicates a higher probability of personal loan.Lower credit card spending with a median of 1400 dollars is less likely to take a loan.This could be useful information. "
      ]
    },
    {
      "cell_type": "code",
      "metadata": {
        "id": "1uZtYNs4wXD3",
        "colab_type": "code",
        "colab": {}
      },
      "source": [
        "fig, ax = plt.subplots()\n",
        "colors={1:'yellow',2:'blue',3:'violet'}\n",
        "ax.scatter(data['Experience'],data['Age'],c=data['Education'].apply(lambda x:colors[x]))\n",
        "plt.xlabel('Experience')\n",
        "plt.ylabel('Age')"
      ],
      "execution_count": null,
      "outputs": []
    },
    {
      "cell_type": "markdown",
      "metadata": {
        "id": "g-TQK0pOyxE4",
        "colab_type": "text"
      },
      "source": [
        "**Observation:**\n",
        "From the above plot show with experience and age have a positive correlation.As experience increase age also increases.Also the colors show the education. There is gap in the mid forties of age and also more people in the undergraduate level."
      ]
    },
    {
      "cell_type": "code",
      "metadata": {
        "id": "0ag6PVLgz2Bo",
        "colab_type": "code",
        "colab": {}
      },
      "source": [
        "#finding correlation using heat map\n",
        "import matplotlib.pyplot as plt\n",
        "import seaborn as sns\n",
        "corr = data.corr()\n",
        "sns.set_context(\"notebook\", font_scale=1.0, rc={\"lines.linewidth\": 2.5})\n",
        "plt.figure(figsize=(13,7))\n",
        "# create a mask so we only see the correlation values once\n",
        "mask = np.zeros_like(corr)\n",
        "mask[np.triu_indices_from(mask, 1)] = True\n",
        "a = sns.heatmap(corr,mask=mask, annot=True, fmt='.2f')\n",
        "rotx = a.set_xticklabels(a.get_xticklabels(), rotation=90)\n",
        "roty = a.set_yticklabels(a.get_yticklabels(), rotation=30)"
      ],
      "execution_count": null,
      "outputs": []
    },
    {
      "cell_type": "markdown",
      "metadata": {
        "id": "pEV0UHpa1fMI",
        "colab_type": "text"
      },
      "source": [
        "**Observation:**\n",
        "Income and Credit card average(CCAvg) are  moderately correlated(0.65).\n",
        "Age and Experience are highly correlated(we already found that earlier). "
      ]
    },
    {
      "cell_type": "code",
      "metadata": {
        "id": "DLGsvrbI2CgL",
        "colab_type": "code",
        "colab": {}
      },
      "source": [
        "sns.boxplot(x=data.Family,y=data.Income,hue=data.PersonalLoan)"
      ],
      "execution_count": null,
      "outputs": []
    },
    {
      "cell_type": "markdown",
      "metadata": {
        "id": "XPOzLxSZ2gte",
        "colab_type": "text"
      },
      "source": [
        "**Observation:**\n",
        "From the above plot we can say that families with income less than 100k are less likely to take loan, than families with high income."
      ]
    },
    {
      "cell_type": "markdown",
      "metadata": {
        "id": "_Ek16Lb-YMi2",
        "colab_type": "text"
      },
      "source": [
        "# *4.Transformations*"
      ]
    },
    {
      "cell_type": "code",
      "metadata": {
        "id": "2dhyW1gIW9oU",
        "colab_type": "code",
        "colab": {}
      },
      "source": [
        "data_X=data.loc[:,data.columns!=\"PersonalLoan\"]\n",
        "data_Y=data[[\"PersonalLoan\"]]"
      ],
      "execution_count": 29,
      "outputs": []
    },
    {
      "cell_type": "code",
      "metadata": {
        "id": "SFECH1eUWa6N",
        "colab_type": "code",
        "colab": {
          "base_uri": "https://localhost:8080/",
          "height": 268
        },
        "outputId": "bb3b06d7-bbfa-4cb4-e380-af0b9d7a21b8"
      },
      "source": [
        "from sklearn.preprocessing import PowerTransformer\n",
        "\n",
        "pt=PowerTransformer(method=\"yeo-johnson\",standardize=False)\n",
        "pt.fit(data_X[\"Income\"].values.reshape(-1,1))\n",
        "temp=pt.transform(data_X[\"Income\"].values.reshape(-1,1))\n",
        "sns.distplot(temp);"
      ],
      "execution_count": 13,
      "outputs": [
        {
          "output_type": "display_data",
          "data": {
            "image/png": "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\n",
            "text/plain": [
              "<Figure size 432x288 with 1 Axes>"
            ]
          },
          "metadata": {
            "tags": []
          }
        }
      ]
    },
    {
      "cell_type": "code",
      "metadata": {
        "id": "O3_MeRlJUQoC",
        "colab_type": "code",
        "colab": {
          "base_uri": "https://localhost:8080/",
          "height": 268
        },
        "outputId": "bda8c96e-e9d2-4110-f82b-86e43bdef10b"
      },
      "source": [
        "pt=PowerTransformer(method=\"yeo-johnson\",standardize=False)\n",
        "pt.fit(data_X[\"CCAvg\"].values.reshape(-1,1))\n",
        "temp=pt.transform(data_X[\"CCAvg\"].values.reshape(-1,1))\n",
        "sns.distplot(temp);"
      ],
      "execution_count": 35,
      "outputs": [
        {
          "output_type": "display_data",
          "data": {
            "image/png": "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\n",
            "text/plain": [
              "<Figure size 432x288 with 1 Axes>"
            ]
          },
          "metadata": {
            "tags": []
          }
        }
      ]
    },
    {
      "cell_type": "code",
      "metadata": {
        "id": "r1-ZRKoiYIQt",
        "colab_type": "code",
        "colab": {
          "base_uri": "https://localhost:8080/",
          "height": 202
        },
        "outputId": "cfb97447-7d80-4341-d580-11b10d64c845"
      },
      "source": [
        "data.head()"
      ],
      "execution_count": 36,
      "outputs": [
        {
          "output_type": "execute_result",
          "data": {
            "text/html": [
              "<div>\n",
              "<style scoped>\n",
              "    .dataframe tbody tr th:only-of-type {\n",
              "        vertical-align: middle;\n",
              "    }\n",
              "\n",
              "    .dataframe tbody tr th {\n",
              "        vertical-align: top;\n",
              "    }\n",
              "\n",
              "    .dataframe thead th {\n",
              "        text-align: right;\n",
              "    }\n",
              "</style>\n",
              "<table border=\"1\" class=\"dataframe\">\n",
              "  <thead>\n",
              "    <tr style=\"text-align: right;\">\n",
              "      <th></th>\n",
              "      <th>ID</th>\n",
              "      <th>Age</th>\n",
              "      <th>Experience</th>\n",
              "      <th>Income</th>\n",
              "      <th>ZIP Code</th>\n",
              "      <th>Family</th>\n",
              "      <th>CCAvg</th>\n",
              "      <th>Education</th>\n",
              "      <th>Mortgage</th>\n",
              "      <th>PersonalLoan</th>\n",
              "      <th>Securities Account</th>\n",
              "      <th>CD Account</th>\n",
              "      <th>Online</th>\n",
              "      <th>CreditCard</th>\n",
              "    </tr>\n",
              "  </thead>\n",
              "  <tbody>\n",
              "    <tr>\n",
              "      <th>0</th>\n",
              "      <td>1</td>\n",
              "      <td>25</td>\n",
              "      <td>1</td>\n",
              "      <td>49</td>\n",
              "      <td>91107</td>\n",
              "      <td>4</td>\n",
              "      <td>1.6</td>\n",
              "      <td>1</td>\n",
              "      <td>0</td>\n",
              "      <td>0</td>\n",
              "      <td>1</td>\n",
              "      <td>0</td>\n",
              "      <td>0</td>\n",
              "      <td>0</td>\n",
              "    </tr>\n",
              "    <tr>\n",
              "      <th>1</th>\n",
              "      <td>2</td>\n",
              "      <td>45</td>\n",
              "      <td>19</td>\n",
              "      <td>34</td>\n",
              "      <td>90089</td>\n",
              "      <td>3</td>\n",
              "      <td>1.5</td>\n",
              "      <td>1</td>\n",
              "      <td>0</td>\n",
              "      <td>0</td>\n",
              "      <td>1</td>\n",
              "      <td>0</td>\n",
              "      <td>0</td>\n",
              "      <td>0</td>\n",
              "    </tr>\n",
              "    <tr>\n",
              "      <th>2</th>\n",
              "      <td>3</td>\n",
              "      <td>39</td>\n",
              "      <td>15</td>\n",
              "      <td>11</td>\n",
              "      <td>94720</td>\n",
              "      <td>1</td>\n",
              "      <td>1.0</td>\n",
              "      <td>1</td>\n",
              "      <td>0</td>\n",
              "      <td>0</td>\n",
              "      <td>0</td>\n",
              "      <td>0</td>\n",
              "      <td>0</td>\n",
              "      <td>0</td>\n",
              "    </tr>\n",
              "    <tr>\n",
              "      <th>3</th>\n",
              "      <td>4</td>\n",
              "      <td>35</td>\n",
              "      <td>9</td>\n",
              "      <td>100</td>\n",
              "      <td>94112</td>\n",
              "      <td>1</td>\n",
              "      <td>2.7</td>\n",
              "      <td>2</td>\n",
              "      <td>0</td>\n",
              "      <td>0</td>\n",
              "      <td>0</td>\n",
              "      <td>0</td>\n",
              "      <td>0</td>\n",
              "      <td>0</td>\n",
              "    </tr>\n",
              "    <tr>\n",
              "      <th>4</th>\n",
              "      <td>5</td>\n",
              "      <td>35</td>\n",
              "      <td>8</td>\n",
              "      <td>45</td>\n",
              "      <td>91330</td>\n",
              "      <td>4</td>\n",
              "      <td>1.0</td>\n",
              "      <td>2</td>\n",
              "      <td>0</td>\n",
              "      <td>0</td>\n",
              "      <td>0</td>\n",
              "      <td>0</td>\n",
              "      <td>0</td>\n",
              "      <td>1</td>\n",
              "    </tr>\n",
              "  </tbody>\n",
              "</table>\n",
              "</div>"
            ],
            "text/plain": [
              "   ID  Age  Experience  ...  CD Account  Online  CreditCard\n",
              "0   1   25           1  ...           0       0           0\n",
              "1   2   45          19  ...           0       0           0\n",
              "2   3   39          15  ...           0       0           0\n",
              "3   4   35           9  ...           0       0           0\n",
              "4   5   35           8  ...           0       0           1\n",
              "\n",
              "[5 rows x 14 columns]"
            ]
          },
          "metadata": {
            "tags": []
          },
          "execution_count": 36
        }
      ]
    },
    {
      "cell_type": "code",
      "metadata": {
        "id": "zTRWG7oMsa-b",
        "colab_type": "code",
        "colab": {
          "base_uri": "https://localhost:8080/",
          "height": 482
        },
        "outputId": "ca49be6c-580f-43bd-b15a-67bf895d70c4"
      },
      "source": [
        "DF=pd.DataFrame(data['PersonalLoan'].value_counts()).reset_index()\n",
        "DF.columns=['Labels','PersonalLoan']\n",
        "fig1,ax1=plt.subplots(figsize=(10,8))\n",
        "explode=(0,0.15)\n",
        "ax1.pie(DF['PersonalLoan'],explode=explode,autopct='%1.1f%%',shadow=True,startangle=70)\n",
        "ax1.axis('equal')\n",
        "plt.title('Personal Loan Percentage')\n",
        "plt.show()\n"
      ],
      "execution_count": 9,
      "outputs": [
        {
          "output_type": "display_data",
          "data": {
            "image/png": "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\n",
            "text/plain": [
              "<Figure size 720x576 with 1 Axes>"
            ]
          },
          "metadata": {
            "tags": []
          }
        }
      ]
    },
    {
      "cell_type": "code",
      "metadata": {
        "id": "Lk_pw0_P1lm7",
        "colab_type": "code",
        "colab": {}
      },
      "source": [
        "corr = data.corr()"
      ],
      "execution_count": 13,
      "outputs": []
    },
    {
      "cell_type": "code",
      "metadata": {
        "id": "5qNPvJ471csc",
        "colab_type": "code",
        "colab": {
          "base_uri": "https://localhost:8080/",
          "height": 383
        },
        "outputId": "43db85d1-bd0a-4f55-fb68-69bb69d833fd"
      },
      "source": [
        "sns.heatmap(corr, linewidths=0.5)"
      ],
      "execution_count": 14,
      "outputs": [
        {
          "output_type": "execute_result",
          "data": {
            "text/plain": [
              "<matplotlib.axes._subplots.AxesSubplot at 0x7f80491a1d30>"
            ]
          },
          "metadata": {
            "tags": []
          },
          "execution_count": 14
        },
        {
          "output_type": "display_data",
          "data": {
            "image/png": "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\n",
            "text/plain": [
              "<Figure size 432x288 with 2 Axes>"
            ]
          },
          "metadata": {
            "tags": []
          }
        }
      ]
    },
    {
      "cell_type": "code",
      "metadata": {
        "id": "QJ49VBiNA_Hk",
        "colab_type": "code",
        "colab": {}
      },
      "source": [
        "data.drop(['ID', 'ZIP Code', 'Experience'], axis=1, inplace=True)"
      ],
      "execution_count": null,
      "outputs": []
    },
    {
      "cell_type": "code",
      "metadata": {
        "id": "J7qveOpYBDSi",
        "colab_type": "code",
        "colab": {}
      },
      "source": [
        "from sklearn.preprocessing import MinMaxScaler"
      ],
      "execution_count": 43,
      "outputs": []
    },
    {
      "cell_type": "code",
      "metadata": {
        "id": "DNriCJtNBGqR",
        "colab_type": "code",
        "colab": {
          "base_uri": "https://localhost:8080/",
          "height": 202
        },
        "outputId": "b14428aa-16a9-4bcb-8219-2bf299f2bd11"
      },
      "source": [
        "columns_to_scale = ['Age', 'Income', 'Family', 'CCAvg', 'Education', 'Mortgage']\n",
        "\n",
        "for column in columns_to_scale:\n",
        "    scaler = MinMaxScaler()\n",
        "    data[column] = scaler.fit_transform(data[column].values.reshape(-1, 1))\n",
        "    \n",
        "data.head()"
      ],
      "execution_count": 44,
      "outputs": [
        {
          "output_type": "execute_result",
          "data": {
            "text/html": [
              "<div>\n",
              "<style scoped>\n",
              "    .dataframe tbody tr th:only-of-type {\n",
              "        vertical-align: middle;\n",
              "    }\n",
              "\n",
              "    .dataframe tbody tr th {\n",
              "        vertical-align: top;\n",
              "    }\n",
              "\n",
              "    .dataframe thead th {\n",
              "        text-align: right;\n",
              "    }\n",
              "</style>\n",
              "<table border=\"1\" class=\"dataframe\">\n",
              "  <thead>\n",
              "    <tr style=\"text-align: right;\">\n",
              "      <th></th>\n",
              "      <th>Age</th>\n",
              "      <th>Income</th>\n",
              "      <th>Family</th>\n",
              "      <th>CCAvg</th>\n",
              "      <th>Education</th>\n",
              "      <th>Mortgage</th>\n",
              "      <th>PersonalLoan</th>\n",
              "      <th>Securities Account</th>\n",
              "      <th>CD Account</th>\n",
              "      <th>Online</th>\n",
              "      <th>CreditCard</th>\n",
              "    </tr>\n",
              "  </thead>\n",
              "  <tbody>\n",
              "    <tr>\n",
              "      <th>0</th>\n",
              "      <td>0.045455</td>\n",
              "      <td>0.189815</td>\n",
              "      <td>1.000000</td>\n",
              "      <td>0.16</td>\n",
              "      <td>0.0</td>\n",
              "      <td>0.0</td>\n",
              "      <td>0</td>\n",
              "      <td>1</td>\n",
              "      <td>0</td>\n",
              "      <td>0</td>\n",
              "      <td>0</td>\n",
              "    </tr>\n",
              "    <tr>\n",
              "      <th>1</th>\n",
              "      <td>0.500000</td>\n",
              "      <td>0.120370</td>\n",
              "      <td>0.666667</td>\n",
              "      <td>0.15</td>\n",
              "      <td>0.0</td>\n",
              "      <td>0.0</td>\n",
              "      <td>0</td>\n",
              "      <td>1</td>\n",
              "      <td>0</td>\n",
              "      <td>0</td>\n",
              "      <td>0</td>\n",
              "    </tr>\n",
              "    <tr>\n",
              "      <th>2</th>\n",
              "      <td>0.363636</td>\n",
              "      <td>0.013889</td>\n",
              "      <td>0.000000</td>\n",
              "      <td>0.10</td>\n",
              "      <td>0.0</td>\n",
              "      <td>0.0</td>\n",
              "      <td>0</td>\n",
              "      <td>0</td>\n",
              "      <td>0</td>\n",
              "      <td>0</td>\n",
              "      <td>0</td>\n",
              "    </tr>\n",
              "    <tr>\n",
              "      <th>3</th>\n",
              "      <td>0.272727</td>\n",
              "      <td>0.425926</td>\n",
              "      <td>0.000000</td>\n",
              "      <td>0.27</td>\n",
              "      <td>0.5</td>\n",
              "      <td>0.0</td>\n",
              "      <td>0</td>\n",
              "      <td>0</td>\n",
              "      <td>0</td>\n",
              "      <td>0</td>\n",
              "      <td>0</td>\n",
              "    </tr>\n",
              "    <tr>\n",
              "      <th>4</th>\n",
              "      <td>0.272727</td>\n",
              "      <td>0.171296</td>\n",
              "      <td>1.000000</td>\n",
              "      <td>0.10</td>\n",
              "      <td>0.5</td>\n",
              "      <td>0.0</td>\n",
              "      <td>0</td>\n",
              "      <td>0</td>\n",
              "      <td>0</td>\n",
              "      <td>0</td>\n",
              "      <td>1</td>\n",
              "    </tr>\n",
              "  </tbody>\n",
              "</table>\n",
              "</div>"
            ],
            "text/plain": [
              "        Age    Income    Family  ...  CD Account  Online  CreditCard\n",
              "0  0.045455  0.189815  1.000000  ...           0       0           0\n",
              "1  0.500000  0.120370  0.666667  ...           0       0           0\n",
              "2  0.363636  0.013889  0.000000  ...           0       0           0\n",
              "3  0.272727  0.425926  0.000000  ...           0       0           0\n",
              "4  0.272727  0.171296  1.000000  ...           0       0           1\n",
              "\n",
              "[5 rows x 11 columns]"
            ]
          },
          "metadata": {
            "tags": []
          },
          "execution_count": 44
        }
      ]
    },
    {
      "cell_type": "code",
      "metadata": {
        "id": "rc9zdzGoBMAs",
        "colab_type": "code",
        "colab": {
          "base_uri": "https://localhost:8080/",
          "height": 35
        },
        "outputId": "1824cfff-e014-479f-8df2-21afa938f7ff"
      },
      "source": [
        "X = data.drop(['PersonalLoan'], axis=1)\n",
        "y = data['PersonalLoan'].values\n",
        "\n",
        "X.shape, y.shape"
      ],
      "execution_count": 46,
      "outputs": [
        {
          "output_type": "execute_result",
          "data": {
            "text/plain": [
              "((5000, 10), (5000,))"
            ]
          },
          "metadata": {
            "tags": []
          },
          "execution_count": 46
        }
      ]
    },
    {
      "cell_type": "markdown",
      "metadata": {
        "id": "Q7NAAycREYAk",
        "colab_type": "text"
      },
      "source": [
        "# *Splitting Data*"
      ]
    },
    {
      "cell_type": "code",
      "metadata": {
        "id": "OeRkXKtWBNlT",
        "colab_type": "code",
        "colab": {
          "base_uri": "https://localhost:8080/",
          "height": 35
        },
        "outputId": "fe57aad1-c8ff-4948-ef4f-71e0ad9d2734"
      },
      "source": [
        "from sklearn.model_selection import train_test_split\n",
        "\n",
        "X_train, X_test, y_train, y_test = train_test_split(X, y, test_size=0.3, stratify= y,random_state=17)\n",
        "X_train.shape, X_test.shape, y_train.shape, y_test.shape"
      ],
      "execution_count": 47,
      "outputs": [
        {
          "output_type": "execute_result",
          "data": {
            "text/plain": [
              "((3500, 10), (1500, 10), (3500,), (1500,))"
            ]
          },
          "metadata": {
            "tags": []
          },
          "execution_count": 47
        }
      ]
    },
    {
      "cell_type": "code",
      "metadata": {
        "id": "V5CAsSi-BVWV",
        "colab_type": "code",
        "colab": {}
      },
      "source": [
        "class_names = ['wont take loan', 'take loan']"
      ],
      "execution_count": 48,
      "outputs": []
    },
    {
      "cell_type": "markdown",
      "metadata": {
        "id": "224RYP1PEOls",
        "colab_type": "text"
      },
      "source": [
        "# *Logical Regression*"
      ]
    },
    {
      "cell_type": "code",
      "metadata": {
        "id": "tAy-Rv30BWuD",
        "colab_type": "code",
        "colab": {
          "base_uri": "https://localhost:8080/",
          "height": 104
        },
        "outputId": "b6f8027a-1f65-47b2-da9f-1979a0044e7c"
      },
      "source": [
        "log_reg = LogisticRegression(C=1.0, max_iter=200)\n",
        "log_reg.fit(X_train, y_train)"
      ],
      "execution_count": 49,
      "outputs": [
        {
          "output_type": "execute_result",
          "data": {
            "text/plain": [
              "LogisticRegression(C=1.0, class_weight=None, dual=False, fit_intercept=True,\n",
              "                   intercept_scaling=1, l1_ratio=None, max_iter=200,\n",
              "                   multi_class='auto', n_jobs=None, penalty='l2',\n",
              "                   random_state=None, solver='lbfgs', tol=0.0001, verbose=0,\n",
              "                   warm_start=False)"
            ]
          },
          "metadata": {
            "tags": []
          },
          "execution_count": 49
        }
      ]
    },
    {
      "cell_type": "code",
      "metadata": {
        "id": "TYBs6D1TBtBv",
        "colab_type": "code",
        "colab": {}
      },
      "source": [
        "from sklearn.linear_model import LogisticRegression\n",
        "from sklearn.ensemble import RandomForestClassifier"
      ],
      "execution_count": 50,
      "outputs": []
    },
    {
      "cell_type": "code",
      "metadata": {
        "id": "2oGdK5w7Byfk",
        "colab_type": "code",
        "colab": {}
      },
      "source": [
        "from sklearn.metrics import plot_confusion_matrix, plot_roc_curve, plot_precision_recall_curve\n",
        "from sklearn.metrics import precision_score, recall_score"
      ],
      "execution_count": 51,
      "outputs": []
    },
    {
      "cell_type": "code",
      "metadata": {
        "id": "RmuzgmOGBXGQ",
        "colab_type": "code",
        "colab": {
          "base_uri": "https://localhost:8080/",
          "height": 973
        },
        "outputId": "07eba024-a34d-45ae-831c-a62c5a770e2a"
      },
      "source": [
        "print('Logistic Regression Results: ')\n",
        "\n",
        "train_score = log_reg.score(X_train, y_train)\n",
        "print('Training Accuracy:', train_score.round(2))\n",
        "test_score = log_reg.score(X_test, y_test)\n",
        "print('Testing Accuracy:', test_score.round(2))\n",
        "\n",
        "y_pred_logi = log_reg.predict(X_test)\n",
        "\n",
        "precision_logi = precision_score(y_test, y_pred_logi, labels=class_names).round(2)\n",
        "print('Precision:', precision_logi)\n",
        "recall_logi = recall_score(y_test, y_pred_logi).round(2)\n",
        "print('Recall:', recall_logi)\n",
        "\n",
        "plot_confusion_matrix(log_reg, X_test, y_test, display_labels=class_names)\n",
        "plt.title('Confusion Matrix for Logistic Regression')\n",
        "\n",
        "plot_roc_curve(log_reg, X_test, y_test)\n",
        "plt.title('ROC Curve for Logistic Regression')\n",
        "\n",
        "plot_precision_recall_curve(log_reg, X_test, y_test)\n",
        "plt.title('Precision-Recall Curve for Logistic Regression')"
      ],
      "execution_count": 52,
      "outputs": [
        {
          "output_type": "stream",
          "text": [
            "Logistic Regression Results: \n",
            "Training Accuracy: 0.95\n",
            "Testing Accuracy: 0.95\n",
            "Precision: 0.86\n",
            "Recall: 0.55\n"
          ],
          "name": "stdout"
        },
        {
          "output_type": "execute_result",
          "data": {
            "text/plain": [
              "Text(0.5, 1.0, 'Precision-Recall Curve for Logistic Regression')"
            ]
          },
          "metadata": {
            "tags": []
          },
          "execution_count": 52
        },
        {
          "output_type": "display_data",
          "data": {
            "image/png": "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\n",
            "text/plain": [
              "<Figure size 432x288 with 2 Axes>"
            ]
          },
          "metadata": {
            "tags": []
          }
        },
        {
          "output_type": "display_data",
          "data": {
            "image/png": "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\n",
            "text/plain": [
              "<Figure size 432x288 with 1 Axes>"
            ]
          },
          "metadata": {
            "tags": []
          }
        },
        {
          "output_type": "display_data",
          "data": {
            "image/png": "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\n",
            "text/plain": [
              "<Figure size 432x288 with 1 Axes>"
            ]
          },
          "metadata": {
            "tags": []
          }
        }
      ]
    },
    {
      "cell_type": "markdown",
      "metadata": {
        "id": "qwZhyaPeECVV",
        "colab_type": "text"
      },
      "source": [
        "# *Random forest classifier*"
      ]
    },
    {
      "cell_type": "code",
      "metadata": {
        "id": "X2KfzBaIDFA_",
        "colab_type": "code",
        "colab": {
          "base_uri": "https://localhost:8080/",
          "height": 156
        },
        "outputId": "3d25d01d-0f1a-449f-9cf6-27b3ad2e0877"
      },
      "source": [
        "rf_clf = RandomForestClassifier(n_estimators=300, max_depth=7,n_jobs=-1 )\n",
        "rf_clf.fit(X_train, y_train)"
      ],
      "execution_count": 53,
      "outputs": [
        {
          "output_type": "execute_result",
          "data": {
            "text/plain": [
              "RandomForestClassifier(bootstrap=True, ccp_alpha=0.0, class_weight=None,\n",
              "                       criterion='gini', max_depth=7, max_features='auto',\n",
              "                       max_leaf_nodes=None, max_samples=None,\n",
              "                       min_impurity_decrease=0.0, min_impurity_split=None,\n",
              "                       min_samples_leaf=1, min_samples_split=2,\n",
              "                       min_weight_fraction_leaf=0.0, n_estimators=300,\n",
              "                       n_jobs=-1, oob_score=False, random_state=None, verbose=0,\n",
              "                       warm_start=False)"
            ]
          },
          "metadata": {
            "tags": []
          },
          "execution_count": 53
        }
      ]
    },
    {
      "cell_type": "code",
      "metadata": {
        "id": "bOA0h6wGDKKA",
        "colab_type": "code",
        "colab": {
          "base_uri": "https://localhost:8080/",
          "height": 973
        },
        "outputId": "a391b484-73c9-426f-d90b-d33d3b60b0a8"
      },
      "source": [
        "print('Random Forest Classifier Results: ')\n",
        "\n",
        "train_score = rf_clf.score(X_train, y_train)\n",
        "print('Training Accuracy:', train_score.round(2))\n",
        "test_score = rf_clf.score(X_test, y_test)\n",
        "print('Testing Accuracy:', test_score.round(2))\n",
        "\n",
        "y_pred_rf = rf_clf.predict(X_test)\n",
        "\n",
        "precision_rf = precision_score(y_test, y_pred_rf, labels=class_names).round(2)\n",
        "print('Precision:', precision_rf)\n",
        "recall_rf = recall_score(y_test, y_pred_rf).round(2)\n",
        "print('Recall:', recall_rf)\n",
        "\n",
        "plot_confusion_matrix(rf_clf, X_test, y_test, display_labels=class_names)\n",
        "plt.title('Confusion Matrix for Random Forest Classifier')\n",
        "\n",
        "plot_roc_curve(rf_clf, X_test, y_test)\n",
        "plt.title('ROC Curve for Random Forest Classifier')\n",
        "\n",
        "plot_precision_recall_curve(rf_clf, X_test, y_test)\n",
        "plt.title('Precision-Recall Random Forest Classifier')"
      ],
      "execution_count": 54,
      "outputs": [
        {
          "output_type": "stream",
          "text": [
            "Random Forest Classifier Results: \n",
            "Training Accuracy: 0.99\n",
            "Testing Accuracy: 0.98\n",
            "Precision: 0.95\n",
            "Recall: 0.85\n"
          ],
          "name": "stdout"
        },
        {
          "output_type": "execute_result",
          "data": {
            "text/plain": [
              "Text(0.5, 1.0, 'Precision-Recall Random Forest Classifier')"
            ]
          },
          "metadata": {
            "tags": []
          },
          "execution_count": 54
        },
        {
          "output_type": "display_data",
          "data": {
            "image/png": "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\n",
            "text/plain": [
              "<Figure size 432x288 with 2 Axes>"
            ]
          },
          "metadata": {
            "tags": []
          }
        },
        {
          "output_type": "display_data",
          "data": {
            "image/png": "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\n",
            "text/plain": [
              "<Figure size 432x288 with 1 Axes>"
            ]
          },
          "metadata": {
            "tags": []
          }
        },
        {
          "output_type": "display_data",
          "data": {
            "image/png": "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\n",
            "text/plain": [
              "<Figure size 432x288 with 1 Axes>"
            ]
          },
          "metadata": {
            "tags": []
          }
        }
      ]
    }
  ]
}
{
  "Based on the above two classifiers we can say that randon tree classifier is accurrate"
}
